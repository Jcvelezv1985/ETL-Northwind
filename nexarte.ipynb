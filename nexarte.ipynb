{
  "nbformat": 4,
  "nbformat_minor": 0,
  "metadata": {
    "colab": {
      "provenance": [],
      "collapsed_sections": [],
      "authorship_tag": "ABX9TyPQ5zy0XO0+uQTjB4FNmD6C",
      "include_colab_link": true
    },
    "kernelspec": {
      "name": "python3",
      "display_name": "Python 3"
    },
    "language_info": {
      "name": "python"
    }
  },
  "cells": [
    {
      "cell_type": "markdown",
      "metadata": {
        "id": "view-in-github",
        "colab_type": "text"
      },
      "source": [
        "<a href=\"https://colab.research.google.com/github/Jcvelezv1985/ETL-Northwind/blob/main/nexarte.ipynb\" target=\"_parent\"><img src=\"https://colab.research.google.com/assets/colab-badge.svg\" alt=\"Open In Colab\"/></a>"
      ]
    },
    {
      "cell_type": "markdown",
      "source": [
        "# cargar documentos"
      ],
      "metadata": {
        "id": "rH9apSJSryUh"
      }
    },
    {
      "cell_type": "code",
      "source": [
        "import pandas as pd\n",
        "url = '/content/Anexo Parte 1 - glassdoordata.csv'\n",
        "df= pd.read_csv(url)"
      ],
      "metadata": {
        "id": "JrSjV0X9tzhS"
      },
      "execution_count": 7,
      "outputs": []
    },
    {
      "cell_type": "code",
      "source": [
        "df.head()"
      ],
      "metadata": {
        "colab": {
          "base_uri": "https://localhost:8080/",
          "height": 206
        },
        "id": "ViQwUk9_utp-",
        "outputId": "c3cee7e4-edb2-4264-c2b7-3d6afeaf6cb5"
      },
      "execution_count": 8,
      "outputs": [
        {
          "output_type": "execute_result",
          "data": {
            "text/plain": [
              "              jobtitle  gender  age  performance education      department  \\\n",
              "0     Graphic Designer  Female   18            5   College      Operations   \n",
              "1    Software Engineer    Male   21            5   College      Management   \n",
              "2  Warehouse Associate  Female   19            4       PhD  Administration   \n",
              "3    Software Engineer    Male   20            5   Masters           Sales   \n",
              "4     Graphic Designer    Male   26            5   Masters     Engineering   \n",
              "\n",
              "   seniority  income  bonus  \n",
              "0          2   42363   9938  \n",
              "1          5  108476  11128  \n",
              "2          5   90208   9268  \n",
              "3          4  108080  10154  \n",
              "4          5   99464   9319  "
            ],
            "text/html": [
              "\n",
              "  <div id=\"df-0559446b-daf9-4cbf-8721-d3c7adfe64f0\">\n",
              "    <div class=\"colab-df-container\">\n",
              "      <div>\n",
              "<style scoped>\n",
              "    .dataframe tbody tr th:only-of-type {\n",
              "        vertical-align: middle;\n",
              "    }\n",
              "\n",
              "    .dataframe tbody tr th {\n",
              "        vertical-align: top;\n",
              "    }\n",
              "\n",
              "    .dataframe thead th {\n",
              "        text-align: right;\n",
              "    }\n",
              "</style>\n",
              "<table border=\"1\" class=\"dataframe\">\n",
              "  <thead>\n",
              "    <tr style=\"text-align: right;\">\n",
              "      <th></th>\n",
              "      <th>jobtitle</th>\n",
              "      <th>gender</th>\n",
              "      <th>age</th>\n",
              "      <th>performance</th>\n",
              "      <th>education</th>\n",
              "      <th>department</th>\n",
              "      <th>seniority</th>\n",
              "      <th>income</th>\n",
              "      <th>bonus</th>\n",
              "    </tr>\n",
              "  </thead>\n",
              "  <tbody>\n",
              "    <tr>\n",
              "      <th>0</th>\n",
              "      <td>Graphic Designer</td>\n",
              "      <td>Female</td>\n",
              "      <td>18</td>\n",
              "      <td>5</td>\n",
              "      <td>College</td>\n",
              "      <td>Operations</td>\n",
              "      <td>2</td>\n",
              "      <td>42363</td>\n",
              "      <td>9938</td>\n",
              "    </tr>\n",
              "    <tr>\n",
              "      <th>1</th>\n",
              "      <td>Software Engineer</td>\n",
              "      <td>Male</td>\n",
              "      <td>21</td>\n",
              "      <td>5</td>\n",
              "      <td>College</td>\n",
              "      <td>Management</td>\n",
              "      <td>5</td>\n",
              "      <td>108476</td>\n",
              "      <td>11128</td>\n",
              "    </tr>\n",
              "    <tr>\n",
              "      <th>2</th>\n",
              "      <td>Warehouse Associate</td>\n",
              "      <td>Female</td>\n",
              "      <td>19</td>\n",
              "      <td>4</td>\n",
              "      <td>PhD</td>\n",
              "      <td>Administration</td>\n",
              "      <td>5</td>\n",
              "      <td>90208</td>\n",
              "      <td>9268</td>\n",
              "    </tr>\n",
              "    <tr>\n",
              "      <th>3</th>\n",
              "      <td>Software Engineer</td>\n",
              "      <td>Male</td>\n",
              "      <td>20</td>\n",
              "      <td>5</td>\n",
              "      <td>Masters</td>\n",
              "      <td>Sales</td>\n",
              "      <td>4</td>\n",
              "      <td>108080</td>\n",
              "      <td>10154</td>\n",
              "    </tr>\n",
              "    <tr>\n",
              "      <th>4</th>\n",
              "      <td>Graphic Designer</td>\n",
              "      <td>Male</td>\n",
              "      <td>26</td>\n",
              "      <td>5</td>\n",
              "      <td>Masters</td>\n",
              "      <td>Engineering</td>\n",
              "      <td>5</td>\n",
              "      <td>99464</td>\n",
              "      <td>9319</td>\n",
              "    </tr>\n",
              "  </tbody>\n",
              "</table>\n",
              "</div>\n",
              "      <button class=\"colab-df-convert\" onclick=\"convertToInteractive('df-0559446b-daf9-4cbf-8721-d3c7adfe64f0')\"\n",
              "              title=\"Convert this dataframe to an interactive table.\"\n",
              "              style=\"display:none;\">\n",
              "        \n",
              "  <svg xmlns=\"http://www.w3.org/2000/svg\" height=\"24px\"viewBox=\"0 0 24 24\"\n",
              "       width=\"24px\">\n",
              "    <path d=\"M0 0h24v24H0V0z\" fill=\"none\"/>\n",
              "    <path d=\"M18.56 5.44l.94 2.06.94-2.06 2.06-.94-2.06-.94-.94-2.06-.94 2.06-2.06.94zm-11 1L8.5 8.5l.94-2.06 2.06-.94-2.06-.94L8.5 2.5l-.94 2.06-2.06.94zm10 10l.94 2.06.94-2.06 2.06-.94-2.06-.94-.94-2.06-.94 2.06-2.06.94z\"/><path d=\"M17.41 7.96l-1.37-1.37c-.4-.4-.92-.59-1.43-.59-.52 0-1.04.2-1.43.59L10.3 9.45l-7.72 7.72c-.78.78-.78 2.05 0 2.83L4 21.41c.39.39.9.59 1.41.59.51 0 1.02-.2 1.41-.59l7.78-7.78 2.81-2.81c.8-.78.8-2.07 0-2.86zM5.41 20L4 18.59l7.72-7.72 1.47 1.35L5.41 20z\"/>\n",
              "  </svg>\n",
              "      </button>\n",
              "      \n",
              "  <style>\n",
              "    .colab-df-container {\n",
              "      display:flex;\n",
              "      flex-wrap:wrap;\n",
              "      gap: 12px;\n",
              "    }\n",
              "\n",
              "    .colab-df-convert {\n",
              "      background-color: #E8F0FE;\n",
              "      border: none;\n",
              "      border-radius: 50%;\n",
              "      cursor: pointer;\n",
              "      display: none;\n",
              "      fill: #1967D2;\n",
              "      height: 32px;\n",
              "      padding: 0 0 0 0;\n",
              "      width: 32px;\n",
              "    }\n",
              "\n",
              "    .colab-df-convert:hover {\n",
              "      background-color: #E2EBFA;\n",
              "      box-shadow: 0px 1px 2px rgba(60, 64, 67, 0.3), 0px 1px 3px 1px rgba(60, 64, 67, 0.15);\n",
              "      fill: #174EA6;\n",
              "    }\n",
              "\n",
              "    [theme=dark] .colab-df-convert {\n",
              "      background-color: #3B4455;\n",
              "      fill: #D2E3FC;\n",
              "    }\n",
              "\n",
              "    [theme=dark] .colab-df-convert:hover {\n",
              "      background-color: #434B5C;\n",
              "      box-shadow: 0px 1px 3px 1px rgba(0, 0, 0, 0.15);\n",
              "      filter: drop-shadow(0px 1px 2px rgba(0, 0, 0, 0.3));\n",
              "      fill: #FFFFFF;\n",
              "    }\n",
              "  </style>\n",
              "\n",
              "      <script>\n",
              "        const buttonEl =\n",
              "          document.querySelector('#df-0559446b-daf9-4cbf-8721-d3c7adfe64f0 button.colab-df-convert');\n",
              "        buttonEl.style.display =\n",
              "          google.colab.kernel.accessAllowed ? 'block' : 'none';\n",
              "\n",
              "        async function convertToInteractive(key) {\n",
              "          const element = document.querySelector('#df-0559446b-daf9-4cbf-8721-d3c7adfe64f0');\n",
              "          const dataTable =\n",
              "            await google.colab.kernel.invokeFunction('convertToInteractive',\n",
              "                                                     [key], {});\n",
              "          if (!dataTable) return;\n",
              "\n",
              "          const docLinkHtml = 'Like what you see? Visit the ' +\n",
              "            '<a target=\"_blank\" href=https://colab.research.google.com/notebooks/data_table.ipynb>data table notebook</a>'\n",
              "            + ' to learn more about interactive tables.';\n",
              "          element.innerHTML = '';\n",
              "          dataTable['output_type'] = 'display_data';\n",
              "          await google.colab.output.renderOutput(dataTable, element);\n",
              "          const docLink = document.createElement('div');\n",
              "          docLink.innerHTML = docLinkHtml;\n",
              "          element.appendChild(docLink);\n",
              "        }\n",
              "      </script>\n",
              "    </div>\n",
              "  </div>\n",
              "  "
            ]
          },
          "metadata": {},
          "execution_count": 8
        }
      ]
    },
    {
      "cell_type": "markdown",
      "source": [
        "# a.\tTop 10 del pago total por cargo"
      ],
      "metadata": {
        "id": "N3wMwzqjzvm_"
      }
    },
    {
      "cell_type": "code",
      "source": [
        "x = df.sort_values(['income'], ascending=False)\n",
        "print(x.head(10));"
      ],
      "metadata": {
        "colab": {
          "base_uri": "https://localhost:8080/"
        },
        "id": "HyyVuF64wojr",
        "outputId": "858d8f82-a208-452d-a00e-9324ad27c813"
      },
      "execution_count": 16,
      "outputs": [
        {
          "output_type": "stream",
          "name": "stdout",
          "text": [
            "              jobtitle  gender  age  performance    education      department  \\\n",
            "927            Manager    Male   58            1          PhD      Management   \n",
            "353            Manager    Male   59            4          PhD           Sales   \n",
            "609                 IT    Male   65            4      Masters           Sales   \n",
            "799            Manager    Male   55            1  High School      Management   \n",
            "357            Manager  Female   60            4          PhD      Management   \n",
            "869  Software Engineer    Male   59            1      College           Sales   \n",
            "350  Software Engineer    Male   65            4  High School      Management   \n",
            "528            Manager    Male   60            4      College      Management   \n",
            "233            Manager    Male   62            5      College  Administration   \n",
            "737  Software Engineer    Male   64            2          PhD           Sales   \n",
            "\n",
            "     seniority  income  bonus  \n",
            "927          4  179726   4284  \n",
            "353          5  176789   6773  \n",
            "609          5  165229   6506  \n",
            "799          5  163208   4095  \n",
            "357          3  160614   8354  \n",
            "869          5  160460   2930  \n",
            "350          5  157852   6669  \n",
            "528          3  157644   7213  \n",
            "233          5  157410   7840  \n",
            "737          5  157277   4844  \n"
          ]
        }
      ]
    },
    {
      "cell_type": "markdown",
      "source": [
        "#b.\tNivel educativo mejor pago"
      ],
      "metadata": {
        "id": "L3EbfUQnz1dL"
      }
    },
    {
      "cell_type": "code",
      "source": [
        "x = df.sort_values(['income'], ascending=False)\n",
        "print(x.head(1));"
      ],
      "metadata": {
        "colab": {
          "base_uri": "https://localhost:8080/"
        },
        "id": "C74tPNPhz6PZ",
        "outputId": "9d36f664-e0c6-4629-b980-4f07495d6657"
      },
      "execution_count": 17,
      "outputs": [
        {
          "output_type": "stream",
          "name": "stdout",
          "text": [
            "    jobtitle gender  age  performance education  department  seniority  \\\n",
            "927  Manager   Male   58            1       PhD  Management          4   \n",
            "\n",
            "     income  bonus  \n",
            "927  179726   4284  \n"
          ]
        }
      ]
    },
    {
      "cell_type": "markdown",
      "source": [
        "# c.\tLa mediana de hombres y mujeres."
      ],
      "metadata": {
        "id": "QhZUdluk0tUL"
      }
    },
    {
      "cell_type": "code",
      "source": [
        "from statistics import mean\n",
        "hombre=df[df['gender']=='Male']\n",
        "hombre=hombre[['age']]\n",
        "print(\"la media de los hombres es: \", hombre.median())\n",
        "mujer=df[df['gender']=='Female']\n",
        "mujer=mujer[['age']]\n",
        "print(\"la media de las mujeres es: \", mujer.median());\n"
      ],
      "metadata": {
        "colab": {
          "base_uri": "https://localhost:8080/"
        },
        "id": "sh5bPKAJ01Az",
        "outputId": "06e6f8c4-e702-403c-ddb0-d50521c14e2f"
      },
      "execution_count": 33,
      "outputs": [
        {
          "output_type": "stream",
          "name": "stdout",
          "text": [
            "la media de los hombres es:  age    40.0\n",
            "dtype: float64\n",
            "la media de las mujeres es:  age    42.0\n",
            "dtype: float64\n"
          ]
        }
      ]
    },
    {
      "cell_type": "markdown",
      "source": [
        "# d.\tMedia y desviación del rendimiento por cargo"
      ],
      "metadata": {
        "id": "qmbv6H8S6L4E"
      }
    },
    {
      "cell_type": "code",
      "source": [
        "import numpy as np\n",
        "manager = df[df['jobtitle']=='Manager']\n",
        "manager = manager[['performance']]\n",
        "print(\"La media del rendimiento de los manager es: \",(manager.median()))\n",
        "print(\"La desviacion del rendimiento de los manager es: \",np.std(manager))\n",
        "\n",
        "Graphic_Designer = df[df['jobtitle']=='Graphic Designer']\n",
        "Graphic_Designer = Graphic_Designer[['performance']]\n",
        "print(\"La media del rendimiento de los Graphic Designer es: \",Graphic_Designer.median())\n",
        "print(\"La desviacion del rendimiento de los Graphic Designer es: \",np.std(Graphic_Designer))\n",
        "\n",
        "Software_Engineer = df[df['jobtitle']=='Software Engineer']\n",
        "Software_Engineer = Software_Engineer[['performance']]\n",
        "print(\"La media del rendimiento de los Software Engineer es: \",Software_Engineer.median())\n",
        "print(\"La desviacion del rendimiento de los Software Engineer es: \",np.std(Software_Engineer))\n",
        "\n",
        "Warehouse_Associate = df[df['jobtitle']=='Warehouse Associate']\n",
        "Warehouse_Associate = Warehouse_Associate[['performance']]\n",
        "print(\"La media del rendimiento de los Warehouse Associate es: \",Warehouse_Associate.median())\n",
        "print(\"La desviacion del rendimiento de los Warehouse Associate es: \",np.std(Warehouse_Associate))\n",
        "\n",
        "Data_Scientist = df[df['jobtitle']=='Data Scientist']\n",
        "Data_Scientist = Data_Scientist[['performance']]\n",
        "print(\"La media del rendimiento de los Data Scientist es: \",Data_Scientist.median())\n",
        "print(\"La desviacion del rendimiento de los Data Scientist es: \",np.std(Data_Scientist))\n",
        "\n",
        "Driver = df[df['jobtitle']=='Driver']\n",
        "Driver = Driver[['performance']]\n",
        "print(\"La media del rendimiento de los Data Scientist es: \",Driver.median())\n",
        "print(\"La desviacion del rendimiento de los Driver es: \",np.std(Driver))\n",
        "\n",
        "Financial_Analyst = df[df['jobtitle']=='Financial Analyst']\n",
        "Financial_Analyst = Financial_Analyst[['performance']]\n",
        "print(\"La media del rendimiento de los Financial Analyst es: \",Financial_Analyst.median())\n",
        "print(\"La desviacion del rendimiento de los Financial Analyst es: \",np.std(Financial_Analyst))\n",
        "\n",
        "IT = df[df['jobtitle']=='IT']\n",
        "IT = IT[['performance']]\n",
        "print(\"La media del rendimiento de los IT es: \",IT.median())\n",
        "print(\"La desviacion del rendimiento de los IT es: \",np.std(IT))\n",
        "\n",
        "Marketing_Associate = df[df['jobtitle']=='Marketing Associate']\n",
        "Marketing_Associate = Marketing_Associate[['performance']]\n",
        "print(\"La media del rendimiento de los Marketing Associate es: \",Marketing_Associate.median())\n",
        "print(\"La desviacion del rendimiento de los Marketing Associate es: \",np.std(Marketing_Associate))\n",
        "\n",
        "Sales_Associate = df[df['jobtitle']=='Sales Associate']\n",
        "Sales_Associate = Marketing_Associate[['performance']]\n",
        "print(\"La media del rendimiento de los Sales Associate es: \",Sales_Associate.median())\n",
        "print(\"La desviacion del rendimiento de los Sales Associate es: \",np.std(Sales_Associate))"
      ],
      "metadata": {
        "colab": {
          "base_uri": "https://localhost:8080/"
        },
        "id": "BBcNK2_D6Na-",
        "outputId": "ca8a9674-ce1d-4832-d84a-9856431aac2d"
      },
      "execution_count": 63,
      "outputs": [
        {
          "output_type": "stream",
          "name": "stdout",
          "text": [
            "La media del rendimiento de los manager es:  performance    3.0\n",
            "dtype: float64\n",
            "La desviacion del rendimiento de los manager es:  performance    1.294862\n",
            "dtype: float64\n",
            "La media del rendimiento de los Graphic Designer es:  performance    3.0\n",
            "dtype: float64\n",
            "La desviacion del rendimiento de los Graphic Designer es:  performance    1.45872\n",
            "dtype: float64\n",
            "La media del rendimiento de los Software Engineer es:  performance    3.0\n",
            "dtype: float64\n",
            "La desviacion del rendimiento de los Software Engineer es:  performance    1.509\n",
            "dtype: float64\n",
            "La media del rendimiento de los Warehouse Associate es:  performance    3.0\n",
            "dtype: float64\n",
            "La desviacion del rendimiento de los Warehouse Associate es:  performance    1.408791\n",
            "dtype: float64\n",
            "La media del rendimiento de los Data Scientist es:  performance    3.0\n",
            "dtype: float64\n",
            "La desviacion del rendimiento de los Data Scientist es:  performance    1.417237\n",
            "dtype: float64\n",
            "La media del rendimiento de los Data Scientist es:  performance    3.0\n",
            "dtype: float64\n",
            "La desviacion del rendimiento de los Driver es:  performance    1.332619\n",
            "dtype: float64\n",
            "La media del rendimiento de los Financial Analyst es:  performance    4.0\n",
            "dtype: float64\n",
            "La desviacion del rendimiento de los Financial Analyst es:  performance    1.41137\n",
            "dtype: float64\n",
            "La media del rendimiento de los IT es:  performance    3.0\n",
            "dtype: float64\n",
            "La desviacion del rendimiento de los IT es:  performance    1.473728\n",
            "dtype: float64\n",
            "La media del rendimiento de los Marketing Associate es:  performance    3.0\n",
            "dtype: float64\n",
            "La desviacion del rendimiento de los Marketing Associate es:  performance    1.403125\n",
            "dtype: float64\n",
            "La media del rendimiento de los Sales Associate es:  performance    3.0\n",
            "dtype: float64\n",
            "La desviacion del rendimiento de los Sales Associate es:  performance    1.403125\n",
            "dtype: float64\n"
          ]
        }
      ]
    },
    {
      "cell_type": "markdown",
      "source": [
        "# e.\tDepartamento con personal de mayor antigüedad."
      ],
      "metadata": {
        "id": "b5gDTjmwE4ui"
      }
    },
    {
      "cell_type": "code",
      "source": [
        "import numpy as np\n",
        "\n",
        "a1 = df[df['department']=='Administration']\n",
        "a1 = a1[['seniority']]\n",
        "print('Administration', np.mean(a1))\n",
        "\n",
        "a2 = df[df['department']=='Engineering']\n",
        "a2 = a2[['seniority']]\n",
        "print('Engineering', np.mean(a2))\n",
        "\n",
        "a3 = df[df['department']=='Management']\n",
        "a3 = a3[['seniority']]\n",
        "print('Management', np.mean(a3))\n",
        "\n",
        "a4 = df[df['department']=='Operations']\n",
        "a4 = a4[['seniority']]\n",
        "print('Operations', np.mean(a4))\n",
        "\n",
        "a5 = df[df['department']=='Sales']\n",
        "a5 = a5[['seniority']]\n",
        "print('Sales', np.mean(a5))\n"
      ],
      "metadata": {
        "colab": {
          "base_uri": "https://localhost:8080/"
        },
        "id": "O3XfEZ4QE6D1",
        "outputId": "8b6086df-dcbb-4325-b823-a9f2506ad4c6"
      },
      "execution_count": 75,
      "outputs": [
        {
          "output_type": "stream",
          "name": "stdout",
          "text": [
            "Administration seniority    3.103627\n",
            "dtype: float64\n",
            "Engineering seniority    3.140625\n",
            "dtype: float64\n",
            "Management seniority    2.974747\n",
            "dtype: float64\n",
            "Operations seniority    2.780952\n",
            "dtype: float64\n",
            "Sales seniority    2.879227\n",
            "dtype: float64\n"
          ]
        }
      ]
    },
    {
      "cell_type": "markdown",
      "source": [
        "# 3.\tEncuentre la distribución de los pagos totales de cada género, use la herramienta estadística más adecuada."
      ],
      "metadata": {
        "id": "1GAOBOw2L-wH"
      }
    },
    {
      "cell_type": "code",
      "source": [
        "hombre=df[df['gender']=='Male']\n",
        "hombre=hombre[['income']]\n",
        "hombre = hombre['income'].sum()\n",
        "\n",
        "\n",
        "mujer=df[df['gender']=='Female']\n",
        "mujer=mujer[['income']]\n",
        "mujer= mujer['income'].sum()\n",
        "\n",
        "\n",
        "print(\"los pagos de los hombres es: \", hombre, \"con un porcentaje de: \", round((hombre/(hombre+mujer))*100,2))\n",
        "print(\"la media de las mujeres es: \", mujer, \"con un porcentaje de: \", round((mujer/(hombre+mujer))*100,2))"
      ],
      "metadata": {
        "colab": {
          "base_uri": "https://localhost:8080/"
        },
        "id": "mk8l4ZdrMA7d",
        "outputId": "639a7fbe-e74b-45d4-9919-85543fc272aa"
      },
      "execution_count": 86,
      "outputs": [
        {
          "output_type": "stream",
          "name": "stdout",
          "text": [
            "los pagos de los hombres es:  52379414 con un porcentaje de:  55.44\n",
            "la media de las mujeres es:  42093239 con un porcentaje de:  44.56\n"
          ]
        }
      ]
    }
  ]
}